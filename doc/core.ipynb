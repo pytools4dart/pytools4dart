{
 "cells": [
  {
   "cell_type": "markdown",
   "metadata": {
    "collapsed": true
   },
   "source": [
    "This notebooks describes the structure and methods of core."
   ]
  },
  {
   "cell_type": "markdown",
   "metadata": {},
   "source": [
    "1 Core content\n",
    "==============\n",
    "\n",
    "The core contains all the input xml files of DART, loaded into python objects. For DART version 5-7-4, it typically contains the following modules: atmosphere, coeff_diff, directions, inversion, maket, object_3d, phase, plots, sequence, trees, urban, water."
   ]
  },
  {
   "cell_type": "code",
   "execution_count": null,
   "metadata": {},
   "outputs": [],
   "source": [
    "import pytools4dart as ptd\n",
    "simu = ptd.simulation()\n",
    "simu.core.get_modules_names()"
   ]
  },
  {
   "cell_type": "markdown",
   "metadata": {},
   "source": [
    "Each `module` of core is a tree of objects corresponding to DART xml labeling. Most of the available nodes can be found within the labels table:"
   ]
  },
  {
   "cell_type": "code",
   "execution_count": null,
   "metadata": {},
   "outputs": [],
   "source": [
    "ptd.core_ui.utils.get_labels()"
   ]
  },
  {
   "cell_type": "markdown",
   "metadata": {},
   "source": [
    "In order to explore the content of these modules, each node has the methods:\n",
    "  - `to_string()` that converts the structure to an xml string\n",
    "  - `path()`: get the absolute path of the node within the module\n",
    "  - `subpaths()`: list of all subnode paths\n",
    "  - `findpaths()`: list of the subnode paths corresponding to a regular expression.\n",
    "  - `set_nodes()`: set a value to a subnode.\n",
    "\n",
    "\n",
    "Other useful fucntions for core exploration are in utils:\n",
    "  - `get_nodes()`: get the subnodes corresponding to a subpath.\n",
    "  - `findall()`: get all the subnodes values and paths corresonding to a regular expression.\n",
    "\n"
   ]
  },
  {
   "cell_type": "code",
   "execution_count": null,
   "metadata": {},
   "outputs": [],
   "source": [
    "from pytools4dart.core_ui.utils import get_nodes, findall, set_nodes\n",
    "\n",
    "print(simu.core.phase.to_string())    \n",
    "\n",
    "# list all subpaths\n",
    "simu.core.phase.subpaths()\n",
    "\n",
    "# find paths ending with '.ident'\n",
    "simu.core.phase.findpaths('\\.ident$')\n",
    "\n",
    "# change ident of the default lambertian property \n",
    "print(simu.scene.properties.optical)\n",
    "simu.core.coeff_diff.set_nodes(ident='leaf', ModelName='leaf_deciduous', databaseName='Lambertian_vegetation.db')\n",
    "print(simu.scene.properties.optical)\n",
    "\n",
    "# create a vegetation property\n",
    "op = simu.add.optical_property(type='Vegetation', ident='turbid_leaf', ModelName='leaf_deciduous', databaseName='Lambertian_vegetation.db')\n",
    "print(simu.core.coeff_diff.to_string())\n",
    "\n",
    "# convert to double face\n",
    "op.set_nodes(hasDifferentModelForBottom=1)\n",
    "print(simu.core.coeff_diff.to_string())\n",
    "\n",
    "# assign 'maple_top' to topface and 'maple_top_bf' for bottomface\n",
    "op.set_nodes(ModelName=['maple_top', 'maple_top_bf'])\n",
    "findall(simu.core.coeff_diff.Coeff_diff, 'ModelName$', path=True)\n",
    "\n",
    "get_nodes(simu.core.coeff_diff.Coeff_diff.LambertianMultiFunctions, 'LambertianMulti.ident')\n",
    "set_nodes(op, hasDifferentModelForBottom=0)\n",
    "findall(simu.core.coeff_diff.Coeff_diff, 'ModelName$', path=True)"
   ]
  },
  {
   "cell_type": "markdown",
   "metadata": {},
   "source": [
    "Core also contains several getters and updaters. Getters allow to extract summaries, e.g. the optical properties table. The updaters are used to update cross-module fields, such as the match between optical properties (in coeff_diff) and optical property links (in plots, object_3d, trees, etc.)."
   ]
  },
  {
   "cell_type": "code",
   "execution_count": null,
   "metadata": {},
   "outputs": [],
   "source": [
    "print(simu.core.get_optical_properties())"
   ]
  },
  {
   "cell_type": "markdown",
   "metadata": {},
   "source": [
    "2 Modules\n",
    "=========\n",
    "\n",
    "Each node contains, three essential attributes:\n",
    "  - children: names of the children, i.e. subnodes.\n",
    "  - attrib: names of the attributes\n",
    "  - parent: address of the parent object in the structure\n",
    "  - add, insert and replace methods for lists.\n"
   ]
  },
  {
   "cell_type": "code",
   "execution_count": null,
   "metadata": {},
   "outputs": [],
   "source": [
    "simu.core.phase.Phase.children\n",
    "simu.core.phase.Phase.attrib\n",
    "simu.core.phase.Phase.parent\n",
    "\n",
    "plot = ptd.plots.create_Plot()\n",
    "simu.core.plots.Plots.add_Plot(plot)"
   ]
  },
  {
   "cell_type": "markdown",
   "metadata": {},
   "source": [
    "The children and attributes are class properties. When attributes are changed, the structure is automatically updated, setting parameters to default values, just like in DART GUI."
   ]
  },
  {
   "cell_type": "code",
   "execution_count": null,
   "metadata": {},
   "outputs": [],
   "source": [
    "simu.core.phase.Phase.calculatorMethod = 0 # Flux Tracking\n",
    "print(simu.core.phase.to_string())\n",
    "simu.core.phase.Phase.calculatorMethod = 2 # LIDAR\n",
    "print(simu.core.phase.to_string())"
   ]
  },
  {
   "cell_type": "markdown",
   "metadata": {},
   "source": [
    "The classes of each core module are available at the package root under the module name, e.g. `ptd.plots`., The classes are named with the pattern `create_{node_name}`, e.g. ptd.create_LambertianMultiFunctions(). Each class has documentation similar to the one given in DART GUI."
   ]
  }
 ],
 "metadata": {
  "kernelspec": {
   "display_name": "Python 2",
   "language": "python",
   "name": "python2"
  },
  "language_info": {
   "codemirror_mode": {
    "name": "ipython",
    "version": 2
   },
   "file_extension": ".py",
   "mimetype": "text/x-python",
   "name": "python",
   "nbconvert_exporter": "python",
   "pygments_lexer": "ipython2",
   "version": "2.7.6"
  }
 },
 "nbformat": 4,
 "nbformat_minor": 0
}
