{
 "cells": [
  {
   "cell_type": "markdown",
   "metadata": {
    "collapsed": true
   },
   "source": [
    "This notebook aims at showing the ways of including objects into the mockup.\n",
    "\n",
    "First thing first, a few considéreations about DART functionning with objects. DART considers the object to be in a X forward, Y up system. In other words, the vertex coordintaes must be written in the following order inside the .obj file:\n",
    "```\n",
    "v y z x\n",
    "```\n",
    "\n",
    "The code below creates an obj file with a rectangle of coordinates in meters $x_{min}=2$, $y_{min}=1$, $x_{max}=5.5$, $y_{max}=4$"
   ]
  },
  {
   "cell_type": "code",
   "execution_count": null,
   "metadata": {},
   "outputs": [],
   "source": [
    "import os\n",
    "import glob\n",
    "import matplotlib.pyplot as plt\n",
    "import pytools4dart as ptd\n",
    "\n",
    "obj_str = '''\n",
    "v 4.0 3.0 2.0\n",
    "v 4.0 3.0 5.5\n",
    "v 1.0 3.0 5.5\n",
    "v 1.0 3.0 2.0\n",
    "f 4 1 2\n",
    "f 4 2 3\n",
    "'''\n",
    "objFpath = os.path.abspath('data/rectangle.obj')\n",
    "with open(objFpath, mode='w') as f:\n",
    "    f.write(obj_str)"
   ]
  },
  {
   "cell_type": "markdown",
   "metadata": {},
   "source": [
    "The code to produce a simple RGB simulation with that rectangle 3m over the ground is the following."
   ]
  },
  {
   "cell_type": "code",
   "execution_count": null,
   "metadata": {},
   "outputs": [],
   "source": [
    "simu = ptd.simulation('object_3d', empty=True)\n",
    "\n",
    "simu.scene.size = [10, 10]\n",
    "simu.scene.cell = [.1, .1]\n",
    "\n",
    "# RGB bands\n",
    "for wvl in [0.485, 0.555, 0.655]:\n",
    "    simu.add.band(wvl=wvl, bw=0.07)\n",
    "\n",
    "# ground optical properties\n",
    "op_ground = {\n",
    "    'type':'Lambertian',\n",
    "    'ident':'ground',\n",
    "    'databaseName':'Lambertian_mineral.db',\n",
    "    'ModelName':'clay_brown'}\n",
    "    #  'ModelName':'reflect_equal_1_trans_equal_1_1'}\n",
    "    \n",
    "\n",
    "simu.add.optical_property(**op_ground)\n",
    "simu.scene.ground.OpticalPropertyLink.ident='ground'\n",
    "\n",
    "# target properties\n",
    "op_vegetation = {'type':'Lambertian',\n",
    "              'ident': 'target',\n",
    "              'databaseName':'Lambertian_vegetation.db',\n",
    "              'ModelName':'grass_rye'}\n",
    "\n",
    "op = simu.add.optical_property(**op_vegetation)\n",
    "\n",
    "# object\n",
    "obj = os.path.abspath(objFpath)\n",
    "obj3D = simu.add.object_3d(obj, xpos=0, ypos=0, zpos=0)\n",
    "obj3D.ObjectOpticalProperties.OpticalPropertyLink.ident = 'target'\n",
    "\n",
    "# write and run simulation, and make the composite image\n",
    "simu.write(overwrite=True)\n",
    "simu.run.full()\n",
    "rgbDpath = simu.run.colorCompositeBands(red=2, green=1, blue=0, iteration='X', outdir='rgb')\n",
    "\n"
   ]
  },
  {
   "cell_type": "code",
   "execution_count": null,
   "metadata": {},
   "outputs": [],
   "source": [
    "# show image\n",
    "rgbDpath = '/home/boissieu/DART_5-7-4_v1083/user_data/simulations/object_3d/output/rgb'\n",
    "imageFpath = glob.glob(os.path.join(rgbDpath, 'ima01*.png'))[0]\n",
    "image = plt.imread(imageFpath)\n",
    "plt.imshow(image)\n",
    "plt.show()\n"
   ]
  },
  {
   "cell_type": "markdown",
   "metadata": {},
   "source": [
    "Opening the files in rgb directory, you will find a red square that is 100x100 pixels. The image is actually showing only the ground. The rectangle target is not shown because of parameter `objectDEMMode=0` <=> 'Put on DEM'. Thus it translates object so that object Zmin=Zground at object Xmin,Ymin.\n",
    "\n",
    "Set parameter `objectDEMMode=2` <=> 'Ignore DEM' to avoid this behaviour. This way the object is considered as not connected to the ground.\n"
   ]
  },
  {
   "cell_type": "code",
   "execution_count": null,
   "metadata": {},
   "outputs": [],
   "source": [
    "obj3D.objectDEMMode=2\n",
    "simu.write(overwrite=True)\n",
    "simu.run.full()\n",
    "rgbDpath = simu.run.colorCompositeBands(red=2, green=1, blue=0, iteration='X', outdir='rgb')\n",
    "\n",
    "imageFpath = glob.glob(os.path.join(rgbDpath, 'ima01*.png'))[0]\n",
    "image = plt.imread(imageFpath)\n",
    "plt.imshow(image)\n",
    "plt.show()\n"
   ]
  },
  {
   "cell_type": "markdown",
   "metadata": {},
   "source": [
    "This time the rectangle appears over the ground, however it is black. This is because the normals are wrongly oriented.\n",
    "\n",
    "\n",
    "One way to avoid this problem is to consider the object as double face, and give the same optical properties to both.\n"
   ]
  },
  {
   "cell_type": "code",
   "execution_count": null,
   "metadata": {},
   "outputs": [],
   "source": [
    "obj3D.ObjectOpticalProperties.doubleFace=1\n",
    "obj3D.ObjectOpticalProperties.BackFaceOpticalProperty.OpticalPropertyLink.ident = 'target'\n",
    "\n",
    "simu.write(overwrite=True)\n",
    "simu.run.full()\n",
    "rgbDpath = simu.run.colorCompositeBands(red=2, green=1, blue=0, iteration='X', outdir='rgb')\n",
    "\n",
    "image = plt.imread(imageFpath)\n",
    "plt.imshow(image)\n",
    "plt.show()\n",
    "\n"
   ]
  },
  {
   "cell_type": "markdown",
   "metadata": {},
   "source": [
    "Another way is to orient correctly the facets face to the sky. A facet is considered to face the sky when the corners are given in the anti-clockwise order on X,Y plane. This can be specified either in the facet lines, e.g. `f 2 1 4` instead of `f 4 1 2`. However, it can be quite tricky with a large amount of triangles."
   ]
  },
  {
   "cell_type": "code",
   "execution_count": null,
   "metadata": {},
   "outputs": [],
   "source": [
    "obj_str = '''\n",
    "v 4.0 3.0 2.0\n",
    "v 4.0 3.0 5.5\n",
    "v 1.0 3.0 5.5\n",
    "v 1.0 3.0 2.0\n",
    "f 2 1 4\n",
    "f 3 2 4\n",
    "'''\n",
    "with open(objFpath, mode='w') as f:\n",
    "    f.write(obj_str)\n",
    "\n",
    "obj3D.ObjectOpticalProperties.doubleFace=0\n",
    "\n",
    "simu.write(overwrite=True)\n",
    "simu.run.full()\n",
    "simu.run.colorCompositeBands(red=2, green=1, blue=0, iteration='X', outdir='rgb')\n",
    "\n",
    "image = plt.imread(imageFpath)\n",
    "plt.imshow(image)\n",
    "plt.show()\n"
   ]
  }
 ],
 "metadata": {
  "kernelspec": {
   "display_name": "Python 2",
   "language": "python",
   "name": "python2"
  },
  "language_info": {
   "codemirror_mode": {
    "name": "ipython",
    "version": 2
   },
   "file_extension": ".py",
   "mimetype": "text/x-python",
   "name": "python",
   "nbconvert_exporter": "python",
   "pygments_lexer": "ipython2",
   "version": "2.7.6"
  }
 },
 "nbformat": 4,
 "nbformat_minor": 0
}
