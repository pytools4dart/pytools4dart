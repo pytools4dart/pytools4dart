{
 "cells": [
  {
   "cell_type": "markdown",
   "metadata": {
    "collapsed": true
   },
   "source": [
    "This notebook shows examples on the management of optical properties"
   ]
  },
  {
   "cell_type": "markdown",
   "metadata": {},
   "source": [
    "# 1 Top and bottom vegetation properties\n",
    "\n",
    "DART gives the possibility to define a vegetation optical property with different properties for top and bottom of a face. However, at the moment only one property database and model name can be defined with add.optical_property. A way to overcome this issue is to create a single optical property and define the different properties afterwards with the core object created.\n"
   ]
  },
  {
   "cell_type": "code",
   "execution_count": null,
   "metadata": {},
   "outputs": [],
   "source": [
    "import pytools4dart as ptd\n",
    "simu = ptd.simulation(empty=True)\n",
    "op = simu.add.optical_property(type='Vegetation', ident='leaf',\n",
    "                               hasDifferentModelForBottom=1)\n",
    "\n",
    "op.UnderstoryMultiTopModel.ModelName = 'maple_top' # top face\n",
    "op.UnderstoryMultiBottomModel.ModelName = 'maple_top_bf' # bottom face\n",
    "## set databaseName if not in the default database\n",
    "# op.UnderstoryMultiTopModel.databaseName \n",
    "# op.UnderstoryMultiBottomModel.databaseName\n",
    "\n",
    "print(op.to_string())"
   ]
  },
  {
   "cell_type": "markdown",
   "metadata": {},
   "source": [
    "# 2 Prospect\n",
    "\n",
    "Prospect module is used to generate a spectral signature based on physcho-chemichal properties like the concentrations of Chlorophylle (Cab), Carotenoids (Car), ...\n",
    "This module can be called for Lambertian and Vegetation optical properties. The code below shos an example. If the database name does not exist it will be created.\n"
   ]
  },
  {
   "cell_type": "code",
   "execution_count": null,
   "metadata": {},
   "outputs": [],
   "source": [
    "import pytools4dart as ptd\n",
    "simu = ptd.simulation('op', empty=True)\n",
    "for wvl in [0.485, 0.555, 0.655]:\n",
    "    simu.add.band(wvl=wvl, bw=0.07)\n",
    "op = simu.add.optical_property(type = 'Vegetation',\n",
    "                               ident='turbid_leaf',\n",
    "                               databaseName='ProspectVegetation.db',\n",
    "                               ModelName='',\n",
    "                               prospect={'CBrown': 0, 'Cab': 30, 'Car': 5,\n",
    "                                         'Cm': 0.01, 'Cw': 0.01, 'N': 1.8,\n",
    "                                         'anthocyanin': 0})\n",
    "\n",
    "op = simu.add.optical_property(type = 'Lambertian',\n",
    "                               ident='grass',\n",
    "                               databaseName='ProspectLambertian.db',\n",
    "                               ModelName='',\n",
    "                               prospect={'CBrown': 0, 'Cab': 50, 'Car': 20,\n",
    "                                         'Cm': 0.01, 'Cw': 0.01, 'N': 1.8,\n",
    "                                         'anthocyanin': 0})\n",
    "\n",
    "simu.scene.ground.OpticalPropertyLink.ident='grass'\n",
    "\n",
    "simu.add.plot(type='Vegetation',op_ident='turbid_leaf')\n",
    "simu.write(overwrite=True)\n",
    "simu.run.full()\n",
    "\n",
    "simu.run.colorCompositeBands(red=2, green=1, blue=0, iteration='X', outdir='rgb')\n",
    "\n"
   ]
  }
 ],
 "metadata": {
  "kernelspec": {
   "display_name": "Python 2",
   "language": "python",
   "name": "python2"
  },
  "language_info": {
   "codemirror_mode": {
    "name": "ipython",
    "version": 2
   },
   "file_extension": ".py",
   "mimetype": "text/x-python",
   "name": "python",
   "nbconvert_exporter": "python",
   "pygments_lexer": "ipython2",
   "version": "2.7.6"
  }
 },
 "nbformat": 4,
 "nbformat_minor": 0
}
