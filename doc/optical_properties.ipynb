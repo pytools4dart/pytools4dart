{
 "cells": [
  {
   "cell_type": "markdown",
   "metadata": {
    "collapsed": true
   },
   "source": [
    "This notebook shows examples on the management of optical properties"
   ]
  },
  {
   "cell_type": "markdown",
   "metadata": {},
   "source": [
    "# 1 Top and bottom vegetation properties\n",
    "\n",
    "DART gives the possibility to define a vegetation optical property with different properties for top and bottom of a face. However, at the moment only one property database and model name can be defined with add.optical_property. A way to overcome this issue is to create a single optical property and define the different properties afterwards with the core object created.\n"
   ]
  },
  {
   "cell_type": "code",
   "execution_count": null,
   "metadata": {},
   "outputs": [],
   "source": [
    "import pytools4dart as ptd\n",
    "simu = ptd.simulation()\n",
    "op = simu.add.optical_property(type='Vegetation', ident='leaf',\n",
    "                               hasDifferentModelForBottom=1)\n",
    "\n",
    "op.UnderstoryMultiTopModel.ModelName = 'maple_top' # top face\n",
    "op.UnderstoryMultiBottomModel.ModelName = 'maple_top_bf' # bottom face\n",
    "## set databaseName if not in the default database\n",
    "# op.UnderstoryMultiTopModel.databaseName \n",
    "# op.UnderstoryMultiBottomModel.databaseName\n",
    "\n",
    "print(op.to_string())"
   ]
  }
 ],
 "metadata": {
  "kernelspec": {
   "display_name": "Python 2",
   "language": "python",
   "name": "python2"
  },
  "language_info": {
   "codemirror_mode": {
    "name": "ipython",
    "version": 2
   },
   "file_extension": ".py",
   "mimetype": "text/x-python",
   "name": "python",
   "nbconvert_exporter": "python",
   "pygments_lexer": "ipython2",
   "version": "2.7.6"
  }
 },
 "nbformat": 4,
 "nbformat_minor": 0
}
