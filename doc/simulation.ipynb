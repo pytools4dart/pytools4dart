{
 "cells": [
  {
   "cell_type": "markdown",
   "metadata": {
    "collapsed": true
   },
   "source": [
    "    Simulation object is corresponding to a DART simulation.\n",
    "    It allows for storing and editing parameters, and running simulation.\n",
    "    Memebers are:\n",
    "\n",
    "        - core: objects built according to DART XML files (coeff_diff, directions, phase, ...) each corresponding to a part of DART GUI.\n",
    "        As in DART GUI, changes propagates automatically to subnodes.\n",
    "        All available parameters are listed in pytools4dart.core_ui.utils.get_labels() or in the file labels/labels.tab of the package.\n",
    "\n",
    "        - scene: summary and fast access to the main elements of the mockup scene : size, resolution,\n",
    "        properties (optical, thermal), plots, object_3d, trees.\n",
    "\n",
    "        - sensor: summary and fast access to the main element of acquisition: bands, sensors, etc.\n",
    "\n",
    "        - source: summary and fast access to the main elements of the source definition.\n",
    "\n",
    "        - sequences: the list of sequences that have been added. Each contains its own core, and adders to add groups and items.\n",
    "\n",
    "        - add: list of user friendly adders to add elements to scene, acquisition, source and sequence.\n",
    "\n",
    "        - run: list of available runners, full, step by step, composites, sequences."
   ]
  }
 ],
 "metadata": {
  "kernelspec": {
   "display_name": "Python 2",
   "language": "python",
   "name": "python2"
  },
  "language_info": {
   "codemirror_mode": {
    "name": "ipython",
    "version": 2
   },
   "file_extension": ".py",
   "mimetype": "text/x-python",
   "name": "python",
   "nbconvert_exporter": "python",
   "pygments_lexer": "ipython2",
   "version": "2.7.6"
  }
 },
 "nbformat": 4,
 "nbformat_minor": 0
}
