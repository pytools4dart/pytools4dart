{
 "cells": [
  {
   "cell_type": "markdown",
   "metadata": {
    "collapsed": true
   },
   "source": [
    "This notebooks present the main functions for database management into this package\n"
   ]
  },
  {
   "cell_type": "code",
   "execution_count": null,
   "metadata": {},
   "outputs": [],
   "source": [
    "from pytools4dart.tools import dbtools\n",
    "import os\n",
    "dbFpath = os.path.abspath('./test.db')\n",
    "wavelength = [1, 2, 3]\n",
    "reflectance = [.1, .2, .3]\n",
    "direct_transmittance = [0, 0, 0]\n",
    "diffuse_transmittance = [.9, .8, .7]\n",
    "name = 'test spectrum'\n",
    "dbtools.import2db(dbFpath, name=name, wavelength=wavelength, reflectance=reflectance,\n",
    "          direct_transmittance=direct_transmittance, \n",
    "          diffuse_transmittance=diffuse_transmittance,\n",
    "                  comments = [\"# Date: 2019\",\n",
    "                              \"# Species: test\"])\n",
    "\n",
    "dbtools.get_models(dbFpath)\n",
    "\n",
    "\n"
   ]
  }
 ],
 "metadata": {
  "kernelspec": {
   "display_name": "Python 2",
   "language": "python",
   "name": "python2"
  },
  "language_info": {
   "codemirror_mode": {
    "name": "ipython",
    "version": 2
   },
   "file_extension": ".py",
   "mimetype": "text/x-python",
   "name": "python",
   "nbconvert_exporter": "python",
   "pygments_lexer": "ipython2",
   "version": "2.7.6"
  }
 },
 "nbformat": 4,
 "nbformat_minor": 0
}
