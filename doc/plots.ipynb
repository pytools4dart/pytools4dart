{
 "cells": [
  {
   "cell_type": "markdown",
   "metadata": {
    "collapsed": true
   },
   "source": [
    "This notebooks shows the several ways of adding plots to a simulation. Indeed, there aer three ways of adding plots that will depend on the objective:\n",
    "\n",
    "  1. fast and user-friendly interface: `add.plot`.\n",
    "    - pros: easy for common options\n",
    "    - cons: limited to certain parameters, not addapted for more than a thousand plots (10 s)\n",
    "\t\n",
    "  2. raw interface: `core.xsdobjs['plots'].Plots.add_Plot()`\n",
    "    - pros: all parameters accessible\n",
    "    - cons: not addapted for more than a thousand plots (10 s.)\n",
    "\t\n",
    "  3. plots file:\n",
    "    - pros: addapted for large number of plots, accelerates DART mockup generation (much faster than with `plots.xml`)\n",
    "    - cons: limited to certain parameters.\n"
   ]
  },
  {
   "cell_type": "markdown",
   "metadata": {},
   "source": [
    "\n",
    "\n",
    "1 User-friendly interface\n",
    "=========================\n",
    "\n",
    "The user-friendly interface to plot is the method `simulation.add.plot`. It is the easiest way to add a plot to a simulation. It is a shortcut to the raw interface. As such it is restrained to a limited the number of parameters: type, geometry and coordinates, optical and thermal properties. \n",
    "\n",
    "Here is an example of adding two plots: one of leaf deciduous trees, one of grass and ground.\n",
    " \n"
   ]
  },
  {
   "cell_type": "code",
   "execution_count": null,
   "metadata": {},
   "outputs": [],
   "source": [
    "import pytools4dart as ptd\n",
    "simu = ptd.simulation()\n",
    "simu.scene.size = [10,10]\n",
    "\n",
    "simu.add.optical_property(type='Vegetation', ident='leaf_deciduous', \n",
    "                          ModelName = 'leaf_deciduous', databaseName = 'Lambertian_vegetation.db')\n",
    "\n",
    "simu.add.optical_property(type='Vegetation', ident='grass', \n",
    "                          ModelName = 'grass_rye', databaseName = 'Lambertian_vegetation.db')\n",
    "\n",
    "simu.add.optical_property(type='Lambertian', ident='ground', \n",
    "                          ModelName = 'loam_gravelly_brown', databaseName = 'Lambertian_mineral.db')\n",
    "\n",
    "simu.add.plot(type='Vegetation', corners=[[0, 0], [10,0], [10, 10], [0, 10]],\n",
    "              height = 3, baseheight=1, op_ident = 'leaf_deciduous')\n",
    "\n",
    "simu.add.plot(type='Ground + Vegetation', corners=[[0, 0], [10,0], [10, 10], [0, 10]],\n",
    "              height = 1, baseheight=0, op_ident = 'grass',\n",
    "              grd_op_type = 'Lambertian', grd_op_ident = 'ground')\n",
    "\n",
    "simu.name = 'ptd/single_plot'\n",
    "\n",
    "simu.write()\n",
    "\n",
    "simu.run.full()\n"
   ]
  },
  {
   "cell_type": "markdown",
   "metadata": {},
   "source": [
    "2 Raw interface\n",
    "===============\n",
    "\n",
    "The raw interface, `core_ui` allows the access to any parameter. \n",
    "\n",
    "The list of all the available parameters can be found with:\n"
   ]
  },
  {
   "cell_type": "code",
   "execution_count": null,
   "metadata": {},
   "outputs": [],
   "source": [
    "ptd.core_ui.utils.get_labels('^Plots.Plot')"
   ]
  },
  {
   "cell_type": "markdown",
   "metadata": {},
   "source": [
    "However, not all the parameters are available at the same time. Some are available only on the condition others have been set before. To illustrate the purpose, lets check the structure of the plots that have been generated in previous step:"
   ]
  },
  {
   "cell_type": "code",
   "execution_count": null,
   "metadata": {},
   "outputs": [],
   "source": [
    "print(simu.core.xsdobjs['plots'].Plots.to_string())"
   ]
  },
  {
   "cell_type": "markdown",
   "metadata": {},
   "source": [
    "Here both plos are defined with a vegetation Leaf Area Index (LAI) of value 1. Lets modify the first plot defining a Leaf Area Density of value $0.3 m^2/m^3$ represenetd with triangles. The operation must be made in successive steps:\n",
    "\n",
    "1. change density definition\n",
    "2. define new density value\n",
    "3. change leaf area density to triangle representation, i.e. DART will generate triangles of a certain size randomly distributed in space but respecting the UF value.\n"
   ]
  },
  {
   "cell_type": "code",
   "execution_count": null,
   "metadata": {},
   "outputs": [],
   "source": [
    "plot = simu.core.xsdobjs['plots'].Plots.Plot[1]\n",
    "plot.PlotVegetationProperties.densityDefinition=1\n",
    "print(plot.to_string())\n",
    "\n",
    "plot.PlotVegetationProperties.UFVegetation.UF = 0.3\n",
    "\n",
    "plot.PlotVegetationProperties.trianglePlotRepresentation=1\n",
    "\n",
    "simu.write()\n",
    "\n",
    "simu.run.full()"
   ]
  },
  {
   "cell_type": "markdown",
   "metadata": {},
   "source": [
    "3 Plots file\n",
    "============\n",
    "\n",
    "Another possibiliy offered by DART is to use an ASCII file containing the plots specifications in a table (see `$DART_HOME/database/plots.txt` for an example). The main advantage is that DART mockup is computed much faster than with the corresponding plots.xml file. A drawback of this method is that the optical and thermal properties of a plot are expected to be the indexes of the defined optical and thermal property (e.g. columns `PLT_OPT_NUMB` and `PLT_THERM_NUMB` in plots.txt). Another drawback of plots file is that their properties cannot be called in a sequence. As well, keep in mind is that it allows a access to the main plot parameters, but the rest is fixed with DART default values.\n",
    "\n",
    "In python using a tabular file allows managing the plots in a dataframe, which is much faster and easier for numerous plots. In order to make easier the link to optical and therma properties are made through names instead of indexes. For example, if the columns `PLT_OPT_NAME` and `PLT_THERM_NAME` are present, they will be used to update the corresponding `PLT_OPT_NUMB` and `PLT_THERM_NUMB` expected by DART.\n"
   ]
  },
  {
   "cell_type": "code",
   "execution_count": null,
   "metadata": {},
   "outputs": [],
   "source": [
    "# Example plots.txt\n",
    "plots_file = os.join.path(ptd.getdartdir(), 'database', 'plots.txt')\n",
    "ptd.tools.plots.read(plots_file)\n"
   ]
  },
  {
   "cell_type": "markdown",
   "metadata": {},
   "source": [
    "To illustrate the use of plots file, let's add 10x10 Vegetation plots of $1m^3$ with a gradient of vegetation density."
   ]
  },
  {
   "cell_type": "code",
   "execution_count": null,
   "metadata": {},
   "outputs": [],
   "source": [
    "import pytools4dart as ptd\n",
    "import pandas as pd\n",
    "import os\n",
    "simu = ptd.simulation('Cab_gradient', empty=True)\n",
    "\n",
    "# set scene size\n",
    "simu.scene.size = [20, 20]\n",
    "\n",
    "# add spectral RGB bands, e.g. B=0.485, G=0.555, R=0.655 nm\n",
    "# with 0.07 full width at half maximum\n",
    "for wvl in [0.485, 0.555, 0.655]:\n",
    "    simu.add.band(wvl=wvl, bw=0.07)\n",
    "\n",
    "simu.core.maket.Maket.exactlyPeriodicScene=0\n",
    "\n",
    "PLT_TYPE = 1 # Vegetation\n",
    "BORDER_REPETITION = 0\n",
    "PLT_BTM_HEI = 0 # baseheight of plot (m)\n",
    "PLT_HEI_MEA = 1 # plot height (m)\n",
    "VEG_DENSITY_DEF = 1\n",
    "VEG_UL = 1\n",
    "plots = []\n",
    "\n",
    "for i in range(10):\n",
    "    for j in range(10):\n",
    "        plot_number = i+10*j\n",
    "        PT_1_X, PT_1_Y = i, j\n",
    "        PT_2_X, PT_2_Y = i+1, j\n",
    "        PT_3_X, PT_3_Y = i+1, j+1\n",
    "        PT_4_X, PT_4_Y = i, j+1\n",
    "        PLT_OPT_NAME = 'op_prospect_{}'.format(plot_number)\n",
    "        # PLT_OPT_NAME = 'prospect_op'\n",
    "        simu.add.optical_property(type='Vegetation', ident=PLT_OPT_NAME,\n",
    "                                  databaseName = 'prospect_test.db', ModelName='', \n",
    "                                  prospect={'CBrown': 0, 'Cab': float(plot_number)/2, 'Car': 5,\n",
    "                                            'Cm': 0.01, 'Cw': 0.01, 'N': 1.8,\n",
    "                                            'anthocyanin': 0})\n",
    "        \n",
    "        plots.append([PLT_TYPE, BORDER_REPETITION, PT_1_X, PT_1_Y, PT_2_X, PT_2_Y, PT_3_X, PT_3_Y, PT_4_X, PT_4_Y, PLT_BTM_HEI, PLT_HEI_MEA, PLT_OPT_NAME])\n",
    "\n",
    "plots_df = pd.DataFrame(plots, columns = ['PLT_TYPE', 'BORDER_REPETITION', 'PT_1_X', 'PT_1_Y', 'PT_2_X', 'PT_2_Y', 'PT_3_X', 'PT_3_Y', 'PT_4_X', 'PT_4_Y', \n",
    "                                          'PLT_BTM_HEI', 'PLT_HEI_MEA', 'PLT_OPT_NAME'])\n",
    "\n",
    "simu.add.plots(plots_df)\n",
    "\n",
    "# write simulation\n",
    "simu.write(overwrite=True)\n",
    "# run simulation\n",
    "simu.run.full()\n",
    "\n",
    "simu.run.colorCompositeBands(red=2, green=1, blue=0, iteration='X', outdir='rgb')\n"
   ]
  }
 ],
 "metadata": {
  "kernelspec": {
   "display_name": "Python 2",
   "language": "python",
   "name": "python2"
  },
  "language_info": {
   "codemirror_mode": {
    "name": "ipython",
    "version": 2
   },
   "file_extension": ".py",
   "mimetype": "text/x-python",
   "name": "python",
   "nbconvert_exporter": "python",
   "pygments_lexer": "ipython2",
   "version": "2.7.6"
  }
 },
 "nbformat": 4,
 "nbformat_minor": 0
}
